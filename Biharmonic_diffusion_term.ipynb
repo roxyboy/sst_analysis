{
 "cells": [
  {
   "cell_type": "code",
   "execution_count": 1,
   "metadata": {
    "collapsed": true
   },
   "outputs": [],
   "source": [
    "import os\n",
    "import numpy as np\n",
    "import xarray as xray\n",
    "import netCDF4\n",
    "from scipy import stats\n",
    "from scipy import io\n",
    "from scipy import fftpack as fft\n",
    "from scipy import linalg as lin\n",
    "from scipy import signal as sig\n",
    "from netCDF4 import Dataset\n",
    "from scipy import interpolate as naiso\n",
    "\n",
    "from matplotlib import pyplot as plt\n",
    "%matplotlib inline"
   ]
  },
  {
   "cell_type": "code",
   "execution_count": 2,
   "metadata": {
    "collapsed": true
   },
   "outputs": [],
   "source": [
    "basedir = '/data/scratch/takaya/POP_data/'"
   ]
  },
  {
   "cell_type": "code",
   "execution_count": 5,
   "metadata": {
    "collapsed": false
   },
   "outputs": [],
   "source": [
    "fname_Mar = os.path.join(basedir, \n",
    "                         'Surface_Daily/hybrid_v5_rel04_BC5_ne120_t12_pop62.pop.h.nday1.0046-03-01.nc')\n",
    "ex = xray.open_dataset(fname_Mar, decode_times=False)\n",
    "maskT = ex.KMT > 1\n",
    "maskU = ex.KMU > 1\n",
    "latT = ex.TLAT.where(maskT).values\n",
    "lonT = ex.TLONG.where(maskT).values\n",
    "latU = ex.ULAT.where(maskU).values\n",
    "lonU = ex.ULONG.where(maskU).values\n",
    "dxT = 1e-2 * ex.DXT.where(maskT).values\n",
    "dyT = 1e-2 * ex.DYT.where(maskT).values\n",
    "dxU = 1e-2 * ex.DXU.where(maskU).values\n",
    "dyU = 1e-2 * ex.DYU.where(maskU).values"
   ]
  },
  {
   "cell_type": "code",
   "execution_count": 6,
   "metadata": {
    "collapsed": true
   },
   "outputs": [],
   "source": [
    "dz = np.diff(ex.z_t)[0]*1e-2"
   ]
  },
  {
   "cell_type": "code",
   "execution_count": 7,
   "metadata": {
    "collapsed": true
   },
   "outputs": [],
   "source": [
    "tarea = ex.TAREA.values\n",
    "tarea_r = 1e4 * np.ma.masked_invalid(tarea**-1).filled(0.)\n",
    "\n",
    "dxt_r = 1e2 * ex.DXT.values**-1\n",
    "dyt_r = 1e2 * ex.DYT.values**-1\n",
    "dxu_r = 1e2 * ex.DXU.values**-1\n",
    "dyu_r = 1e2 * ex.DYU.values**-1\n",
    "\n",
    "        \n",
    "p5 = .5\n",
    "c2 = 2.\n",
    "hus = 1e-2 * ex.HUS.values\n",
    "hte = 1e-2 * ex.HTE.values\n",
    "huw = 1e-2 * ex.HUW.values\n",
    "htn = 1e-2 * ex.HTN.values\n",
    "\n",
    "uarea = ex.UAREA.values\n",
    "uarea_r = 1e4 * np.ma.masked_invalid(uarea**-1).filled(0.)\n",
    "\n",
    "\n",
    "###########\n",
    "# coefficients for \\nabla**2(U) (without metric terms)\n",
    "###########\n",
    "work1 = hus * hte**-1\n",
    "dus = work1 * uarea_r\n",
    "dun = np.roll(work1, 1, axis=0) * uarea_r\n",
    "work1 = huw * htn**-1\n",
    "duw = work1 * uarea_r\n",
    "due = np.roll(work1, 1, axis=1) * uarea_r\n",
    "\n",
    "###########\n",
    "# coefficients for metric terms in \\nabla**2(U, V)\n",
    "###########\n",
    "kxu = (np.roll(huw, 1, axis=1) - huw) * uarea_r\n",
    "kyu = (np.roll(hus, 1, axis=0) - hus) * uarea_r\n",
    "\n",
    "#East-West\n",
    "work1 = (hte - np.roll(hte, -1, axis=1)) * tarea_r\n",
    "work2 = np.roll(work1, 1, axis=1) - work1\n",
    "dxkx = p5 * (work2 + np.roll(work2, 1, axis=0)) * dxu_r\n",
    "work2 = np.roll(work1, 1, axis=0) - work1\n",
    "dykx = p5 * (work2 + np.roll(work2, 1, axis=1)) * dyu_r\n",
    "\n",
    "# North-South\n",
    "work1 = (htn - np.roll(htn, -1, axis=0)) * tarea_r\n",
    "work2 = np.roll(work1, 1, axis=0) - work1\n",
    "dyky = p5 * (work2 + np.roll(work2, 1, axis=1)) * dyu_r\n",
    "work2 = np.roll(work1, 1, axis=1) - work1\n",
    "dxky = p5 * (work2 + np.roll(work2, 1, axis=0)) * dxu_r\n",
    "\n",
    "            \n",
    "dum = - (dxkx + dyky + c2*(kxu**2 + kyu**2))\n",
    "dmc = dxky - dykx\n",
    "\n",
    "\n",
    "###########      \n",
    "# coefficients for metric mixing terms which mix U,V.\n",
    "###########\n",
    "dme = c2*kyu * (htn + np.roll(htn, 1, axis=1))**-1\n",
    "dmn = -c2*kxu * (hte + np.roll(hte, 1, axis=0))**-1\n",
    "\n",
    "duc = - (dun + dus + due + duw)\n",
    "dmw = -dme\n",
    "dms = -dmn"
   ]
  },
  {
   "cell_type": "code",
   "execution_count": 8,
   "metadata": {
    "collapsed": false
   },
   "outputs": [],
   "source": [
    "j_eq = np.argmin(ex.ULAT[:,0].values**2)\n",
    "amf = (uarea / ex.UAREA.values[j_eq, 0])**1.5     #uarea is in [cm^2]\n",
    "amf = np.ma.masked_array(amf, ~maskU.values).filled(0.) "
   ]
  },
  {
   "cell_type": "code",
   "execution_count": 9,
   "metadata": {
    "collapsed": true
   },
   "outputs": [],
   "source": [
    "def vector_laplacian(U, V, mask, dun, dus, due, duw, dmc, dmn, dms, dme, dmw):\n",
    "    \"\"\" \\nabla**2(U or V) at momentum points\n",
    "    \"\"\"\n",
    "    cc = duc + dum\n",
    "    \n",
    "    lap_u = (cc * U +\n",
    "            dun * np.roll(U, -1, axis=1) + \n",
    "            dus * np.roll(U, 1, axis=1) + \n",
    "            due * np.roll(U, -1, axis=2) + \n",
    "            duw * np.roll(U, 1, axis=2) +\n",
    "            dmc * V + \n",
    "            dmn * np.roll(V, -1, axis=1) + \n",
    "            dms * np.roll(V, 1, axis=1) + \n",
    "            dme * np.roll(V, -1, axis=2) + \n",
    "            dmw * np.roll(V, 1, axis=2)\n",
    "            )\n",
    "    lap_v = (cc * V +\n",
    "            dun * np.roll(V, -1, axis=1) + \n",
    "            dus * np.roll(V, 1, axis=1) + \n",
    "            due * np.roll(V, -1, axis=2) + \n",
    "            duw * np.roll(V, 1, axis=2) +\n",
    "            dmc * U + \n",
    "            dmn * np.roll(U, -1, axis=1) + \n",
    "            dms * np.roll(U, 1, axis=1) + \n",
    "            dme * np.roll(U, -1, axis=2) + \n",
    "            dmw * np.roll(U, 1, axis=2)\n",
    "            )\n",
    "    if lap_u.ndim == 3:\n",
    "        for t in range(lap_u.shape[0]):\n",
    "            lap_u[t] = np.ma.masked_array(lap_u[t], mask).filled(0.)\n",
    "            lap_v[t] = np.ma.masked_array(lap_v[t], mask).filled(0.)\n",
    "    else:\n",
    "        lap_u = np.ma.masked_invalid(lap_u[t], mask).filled(0.)\n",
    "        lap_v = np.ma.masked_invalid(lap_v[t], mask).filled(0.)\n",
    "            \n",
    "    return lap_u, lap_v\n",
    "\n",
    "\n",
    "def biharmonic_tendency(U, V, mask, dun, dus, due, duw, \n",
    "                        dmc, dmn, dms, dme, dmw, amf, am=-2.7e10):\n",
    "    \"\"\"Calculate tendency due to biharmonic diffusion.\n",
    "    \"\"\"\n",
    "    d2uk, d2vk = [amf * t for t in vector_laplacian(U, V, mask, \n",
    "                                                    dun, dus, due, duw, dmc, dmn, dms, dme, dmw)]\n",
    "    hduk, hdvk = [am * t for t in vector_laplacian(d2uk, d2vk, mask, \n",
    "                                                    dun, dus, due, duw, dmc, dmn, dms, dme, dmw)]\n",
    "    if hduk.ndim == 3:\n",
    "        for t in range(hduk.shape[0]):\n",
    "            hduk[t] = np.ma.masked_array(hduk[t], mask).filled(0.)\n",
    "            hdvk[t] = np.ma.masked_array(hdvk[t], mask).filled(0.)\n",
    "    else:\n",
    "        hduk = np.ma.masked_array(hduk, mask).filled(0.)\n",
    "        hdvk = np.ma.masked_array(hdvk, mask).filled(0.)\n",
    "    return hduk, hdvk"
   ]
  },
  {
   "cell_type": "markdown",
   "metadata": {},
   "source": [
    "# Winter"
   ]
  },
  {
   "cell_type": "code",
   "execution_count": 21,
   "metadata": {
    "collapsed": false
   },
   "outputs": [
    {
     "name": "stdout",
     "output_type": "stream",
     "text": [
      "['/data/scratch/takaya/POP_data/Surface_Daily/hybrid_v5_rel04_BC5_ne120_t12_pop62.pop.h.nday1.0046-01-01.nc']\n"
     ]
    }
   ],
   "source": [
    "#########\n",
    "month = 1\n",
    "#########\n",
    "##########\n",
    "# daystart = 1\n",
    "# daylag = 13\n",
    "# Nmonth = 31\n",
    "##########\n",
    "# year = range(34)\n",
    "# years = np.append(year, range(35,41))\n",
    "years = range(1)\n",
    "fname_mat = ['' for x in range(len(years))]\n",
    "\n",
    "t = 0\n",
    "for yearnum in years:\n",
    "    fname = os.path.join(basedir,\n",
    "                                 'Surface_Daily/hybrid_v5_rel04_BC5_ne120_t12_pop62.pop.h.nday1.%04d-%02d-01.nc' \n",
    "                                 % (yearnum+46, month))\n",
    "    fname_mat[t] = fname\n",
    "    t += 1\n",
    "    \n",
    "print fname_mat"
   ]
  },
  {
   "cell_type": "code",
   "execution_count": 22,
   "metadata": {
    "collapsed": true
   },
   "outputs": [],
   "source": [
    "num = 0\n",
    "\n",
    "for fname in fname_mat:\n",
    "    \n",
    "    data = xray.open_dataset(fname, decode_times=False)\n",
    "    U = 1e-2 * data.U1_1.where(maskU)\n",
    "    V = 1e-2 * data.V1_1.where(maskU)\n",
    "    hduk, hdvk = biharmonic_tendency(U.values, V.values, ~maskU, dun, dus, due, duw, \n",
    "                        dmc, dmn, dms, dme, dmw, amf)\n",
    "    hduk = xray.DataArray( hduk, dims=U.dims, coords=U.coords )\n",
    "    hdvk = xray.DataArray( hdvk, dims=V.dims, coords=V.coords )\n",
    "    savename = os.path.join(basedir, 'Momentum_Biharmonic_closure%04d_%02d' % (years[num]+46, month))\n",
    "    np.savez(savename, hduk=hduk, hdvk=hdvk)\n",
    "    \n",
    "    num += 1"
   ]
  },
  {
   "cell_type": "code",
   "execution_count": null,
   "metadata": {
    "collapsed": false
   },
   "outputs": [],
   "source": [
    "#########\n",
    "month = 2\n",
    "#########\n",
    "##########\n",
    "# daystart = 1\n",
    "# daylag = 13\n",
    "# Nmonth = 31\n",
    "##########\n",
    "year = range(34)\n",
    "years = np.append(year, range(35,41))\n",
    "fname_mat = ['' for x in range(len(years))]\n",
    "\n",
    "t = 0\n",
    "for yearnum in years:\n",
    "    fname = os.path.join(basedir,\n",
    "                                 'Surface_Daily/hybrid_v5_rel04_BC5_ne120_t12_pop62.pop.h.nday1.%04d-%02d-01.nc' \n",
    "                                 % (yearnum+46, month))\n",
    "    fname_mat[t] = fname\n",
    "    t += 1\n",
    "    \n",
    "print fname_mat"
   ]
  },
  {
   "cell_type": "code",
   "execution_count": null,
   "metadata": {
    "collapsed": true
   },
   "outputs": [],
   "source": [
    "num = 0\n",
    "\n",
    "for fname in fname_mat:\n",
    "    \n",
    "    data = xray.open_dataset(fname, decode_times=False)\n",
    "    U = 1e-2 * data.U1_1.where(maskU)\n",
    "    V = 1e-2 * data.V1_1.where(maskU)\n",
    "    hduk, hdvk = biharmonic_tendency(U.values, V.values, ~maskU, dun, dus, due, duw, \n",
    "                        dmc, dmn, dms, dme, dmw, amf)\n",
    "    hduk = xray.DataArray( hduk, dims=U.dims, coords=U.coords )\n",
    "    hdvk = xray.DataArray( hdvk, dims=V.dims, coords=V.coords )\n",
    "    savename = os.path.join(basedir, 'Momentum_Biharmonic_closure%04d_%02d' % (years[num]+46, month))\n",
    "    np.savez(savename, hduk=hduk, hdvk=hdvk)\n",
    "    \n",
    "    num += 1"
   ]
  },
  {
   "cell_type": "code",
   "execution_count": null,
   "metadata": {
    "collapsed": false
   },
   "outputs": [],
   "source": [
    "#########\n",
    "month = 3\n",
    "#########\n",
    "##########\n",
    "# daystart = 1\n",
    "# daylag = 13\n",
    "# Nmonth = 31\n",
    "##########\n",
    "year = range(34)\n",
    "years = np.append(year, range(35,41))\n",
    "fname_mat = ['' for x in range(len(years))]\n",
    "\n",
    "t = 0\n",
    "for yearnum in years:\n",
    "    fname = os.path.join(basedir,\n",
    "                                 'Surface_Daily/hybrid_v5_rel04_BC5_ne120_t12_pop62.pop.h.nday1.%04d-%02d-01.nc' \n",
    "                                 % (yearnum+46, month))\n",
    "    fname_mat[t] = fname\n",
    "    t += 1\n",
    "    \n",
    "print fname_mat"
   ]
  },
  {
   "cell_type": "code",
   "execution_count": null,
   "metadata": {
    "collapsed": true
   },
   "outputs": [],
   "source": [
    "num = 0\n",
    "\n",
    "for fname in fname_mat:\n",
    "    \n",
    "    data = xray.open_dataset(fname, decode_times=False)\n",
    "    U = 1e-2 * data.U1_1.where(maskU)\n",
    "    V = 1e-2 * data.V1_1.where(maskU)\n",
    "    hduk, hdvk = biharmonic_tendency(U.values, V.values, ~maskU, dun, dus, due, duw, \n",
    "                        dmc, dmn, dms, dme, dmw, amf)\n",
    "    hduk = xray.DataArray( hduk, dims=U.dims, coords=U.coords )\n",
    "    hdvk = xray.DataArray( hdvk, dims=V.dims, coords=V.coords )\n",
    "    savename = os.path.join(basedir, 'Momentum_Biharmonic_closure%04d_%02d' % (years[num]+46, month))\n",
    "    np.savez(savename, hduk=hduk, hdvk=hdvk)\n",
    "    \n",
    "    num += 1"
   ]
  },
  {
   "cell_type": "markdown",
   "metadata": {},
   "source": [
    "# Summer"
   ]
  },
  {
   "cell_type": "code",
   "execution_count": null,
   "metadata": {
    "collapsed": true
   },
   "outputs": [],
   "source": [
    "for month in range(7,10):\n",
    "\n",
    "    fname_mat = ['' for x in range(len(years))]\n",
    "\n",
    "    t = 0\n",
    "    for yearnum in years:\n",
    "        fname = os.path.join(basedir,\n",
    "                                     'Surface_Daily/hybrid_v5_rel04_BC5_ne120_t12_pop62.pop.h.nday1.%04d-%02d-01.nc' \n",
    "                                     % (yearnum+46, month))\n",
    "        fname_mat[t] = fname\n",
    "        t += 1\n",
    "\n",
    "    num = 0\n",
    "    for fname in fname_mat:\n",
    "\n",
    "        data = xray.open_dataset(fname, decode_times=False)\n",
    "        U = 1e-2 * data.U1_1.where(maskU)\n",
    "        V = 1e-2 * data.V1_1.where(maskU)\n",
    "        hduk, hdvk = biharmonic_tendency(U.values, V.values, ~maskU, dun, dus, due, duw, \n",
    "                            dmc, dmn, dms, dme, dmw, amf)\n",
    "        hduk = xray.DataArray( hduk, dims=U.dims, coords=U.coords )\n",
    "        hdvk = xray.DataArray( hdvk, dims=V.dims, coords=V.coords )\n",
    "        savename = os.path.join(basedir, 'Momentum_Biharmonic_closure%04d_%02d' % (years[num]+46, month))\n",
    "        np.savez(savename, hduk=hduk, hdvk=hdvk)\n",
    "\n",
    "        num += 1"
   ]
  },
  {
   "cell_type": "code",
   "execution_count": null,
   "metadata": {
    "collapsed": true
   },
   "outputs": [],
   "source": []
  }
 ],
 "metadata": {
  "kernelspec": {
   "display_name": "Python 2.7",
   "language": "python",
   "name": "python2"
  },
  "language_info": {
   "codemirror_mode": {
    "name": "ipython",
    "version": 2
   },
   "file_extension": ".py",
   "mimetype": "text/x-python",
   "name": "python",
   "nbconvert_exporter": "python",
   "pygments_lexer": "ipython2",
   "version": "2.7.11"
  }
 },
 "nbformat": 4,
 "nbformat_minor": 0
}
