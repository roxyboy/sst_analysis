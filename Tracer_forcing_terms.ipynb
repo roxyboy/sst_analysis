{
 "cells": [
  {
   "cell_type": "code",
   "execution_count": 1,
   "metadata": {
    "collapsed": true
   },
   "outputs": [],
   "source": [
    "import os\n",
    "import numpy as np\n",
    "import xarray as xray\n",
    "from scipy import io\n",
    "from scipy import stats\n",
    "from scipy import linalg as lin\n",
    "from scipy import signal as sig\n",
    "from scipy import fftpack as fft\n",
    "from netCDF4 import Dataset\n",
    "from scipy import interpolate as naiso\n",
    "\n",
    "from matplotlib import pyplot as plt\n",
    "%matplotlib inline"
   ]
  },
  {
   "cell_type": "code",
   "execution_count": 24,
   "metadata": {
    "collapsed": false
   },
   "outputs": [
    {
     "data": {
      "text/plain": [
       "<module 'sstanalysis.pop_spectra' from 'sstanalysis/pop_spectra.pyc'>"
      ]
     },
     "execution_count": 24,
     "metadata": {},
     "output_type": "execute_result"
    }
   ],
   "source": [
    "from sstanalysis import pop_spectra\n",
    "reload(pop_spectra)"
   ]
  },
  {
   "cell_type": "code",
   "execution_count": 2,
   "metadata": {
    "collapsed": true
   },
   "outputs": [],
   "source": [
    "basedir = '/data/scratch/takaya/POP_data/'"
   ]
  },
  {
   "cell_type": "code",
   "execution_count": 3,
   "metadata": {
    "collapsed": true
   },
   "outputs": [],
   "source": [
    "fname_Mar = os.path.join(basedir, \n",
    "                         'Surface_Daily/hybrid_v5_rel04_BC5_ne120_t12_pop62.pop.h.nday1.0046-03-01.nc')\n",
    "ex = xray.open_dataset(fname_Mar, decode_times=False)\n",
    "maskT = ex.KMT > 1\n",
    "maskU = ex.KMU > 1\n",
    "latT = ex.TLAT.where(maskT).values\n",
    "lonT = ex.TLONG.where(maskT).values\n",
    "latU = ex.ULAT.where(maskU).values\n",
    "lonU = ex.ULONG.where(maskU).values\n",
    "dxT = 1e-2 * ex.DXT.where(maskT).values\n",
    "dyT = 1e-2 * ex.DYT.where(maskT).values\n",
    "dxU = 1e-2 * ex.DXU.where(maskU).values\n",
    "dyU = 1e-2 * ex.DYU.where(maskU).values"
   ]
  },
  {
   "cell_type": "code",
   "execution_count": 4,
   "metadata": {
    "collapsed": true
   },
   "outputs": [],
   "source": [
    "dz = np.diff(ex.z_t)[0]*1e-2"
   ]
  },
  {
   "cell_type": "code",
   "execution_count": 18,
   "metadata": {
    "collapsed": false
   },
   "outputs": [
    {
     "name": "stdout",
     "output_type": "stream",
     "text": [
      "34 11 420\n",
      "(13, 36)\n"
     ]
    }
   ],
   "source": [
    "dlat, dlon = (10., 10.)\n",
    "lat_start, lat_end = (-60., 50.)\n",
    "lon_start, lon_end = (5, 345.)\n",
    "west, south = (lon_start, lat_start)\n",
    "east, north = (west+dlon, south+dlat)\n",
    "Degx, Degy = (int((lon_end-lon_start)/dlon), int((lat_end-lat_start)/dlat))\n",
    "lon_global = np.arange(lon_start, lon_end+2*dlon, dlon)\n",
    "lat_global = np.arange(lat_start, lat_end+2*dlat, dlat)\n",
    "Lon_global, Lat_global = np.meshgrid(lon_global, lat_global)\n",
    "\n",
    "print Degx, Degy, (Degx+1)*(Degy+1)\n",
    "print Lon_global.shape"
   ]
  },
  {
   "cell_type": "code",
   "execution_count": 20,
   "metadata": {
    "collapsed": false
   },
   "outputs": [
    {
     "name": "stdout",
     "output_type": "stream",
     "text": [
      "['arr_1', 'arr_0']\n"
     ]
    }
   ],
   "source": [
    "roll = -1080\n",
    "\n",
    "fname = os.path.join(basedir, 'Surface_Daily/hybrid_v5_rel04_BC5_ne120_t12_pop62.pop.h.nday1.0046-02-01.nc')\n",
    "f = xray.open_dataset(fname, decode_times=False)\n",
    "mask = f.variables['KMT'].values <= 1\n",
    "tlon = np.roll(f.variables['TLONG'].where(~mask).values, roll, axis=1)\n",
    "tlat = np.roll(f.variables['TLAT'].where(~mask).values, roll, axis=1)\n",
    "Dz = f['dz'].values[0]  # centimeters\n",
    "\n",
    "\n",
    "lonrange=np.array([lon_start, lon_end])\n",
    "latrange=np.array([lat_start, lat_end+5.])\n",
    "lonmask = (tlon >= lonrange[0]) & (tlon < lonrange[1])\n",
    "latmask = (tlat >= latrange[0]) & (tlat < latrange[1])\n",
    "boxidx = lonmask & latmask # this won't necessarily be square\n",
    "irange = np.where(boxidx.sum(axis=0))[0]\n",
    "imin_bound, imax_bound = irange.min(), irange.max()\n",
    "jrange = np.where(boxidx.sum(axis=1))[0]\n",
    "jmin_bound, jmax_bound = jrange.min(), jrange.max()\n",
    "\n",
    "\n",
    "npzfile = np.load(os.path.join(basedir, 'interpLatnLon.npz'))\n",
    "print npzfile.files\n",
    "tlat = npzfile['arr_0']\n",
    "tlon = npzfile['arr_1']"
   ]
  },
  {
   "cell_type": "code",
   "execution_count": 7,
   "metadata": {
    "collapsed": true
   },
   "outputs": [],
   "source": [
    "##########\n",
    "# using PSU, kg, m as units\n",
    "##########\n",
    "ocn_ref_salinity = 34.7\n",
    "\n",
    "rho_fw = 1e3\n",
    "fwflux_factor = 1e-4\n",
    "salinity_factor = - ocn_ref_salinity * fwflux_factor * 1e3 * 1e-2   # [(psu*m/s) / (kg/m^2/s)]\n",
    "\n",
    "cp_sw = 3.996e7\n",
    "rho_sw = 4.1/3.996\n",
    "hflux_factor = 1e3 / (rho_sw*cp_sw) / 1e2"
   ]
  },
  {
   "cell_type": "markdown",
   "metadata": {},
   "source": [
    "# WINTER"
   ]
  },
  {
   "cell_type": "code",
   "execution_count": 32,
   "metadata": {
    "collapsed": false
   },
   "outputs": [
    {
     "name": "stdout",
     "output_type": "stream",
     "text": [
      "['/data/scratch/takaya/POP_data/Surface_Daily/hybrid_v5_rel04_BC5_ne120_t12_pop62.pop.h.nday1.0046-01-01.nc']\n"
     ]
    }
   ],
   "source": [
    "#########\n",
    "month = 1\n",
    "#########\n",
    "##########\n",
    "daystart = 1\n",
    "daylag = 13\n",
    "Nmonth = 31\n",
    "##########\n",
    "# year = range(34)\n",
    "# years = np.append(year, range(35,41))\n",
    "years = range(1)\n",
    "fname_mat = ['' for x in range(len(years))]\n",
    "\n",
    "t = 0\n",
    "for yearnum in years:\n",
    "    fname = os.path.join(basedir,\n",
    "                                 'Surface_Daily/hybrid_v5_rel04_BC5_ne120_t12_pop62.pop.h.nday1.%04d-%02d-01.nc' \n",
    "                                 % (yearnum+46, month))\n",
    "    fname_mat[t] = fname\n",
    "    t += 1\n",
    "    \n",
    "print fname_mat\n",
    "\n",
    "mask_global = np.roll(mask, roll, axis=1)[jmin_bound:jmax_bound+100, imin_bound:imax_bound+100]"
   ]
  },
  {
   "cell_type": "code",
   "execution_count": 33,
   "metadata": {
    "collapsed": false
   },
   "outputs": [],
   "source": [
    "num = 0\n",
    "\n",
    "for fname in fname_mat:\n",
    "    \n",
    "    data = xray.open_dataset(fname, decode_times=False)\n",
    "    \n",
    "    Qhf = data.SHF_2.where(maskT)          #\"watt/m^2\"\n",
    "    Ffw = data.SFWF_2.where(maskT)     #\"kg/m^2/s\n",
    "    \n",
    "    Tforc = hflux_factor * Qhf\n",
    "    Sforc = salinity_factor * Ffw\n",
    "#     Tforc = xray.DataArray( Tforc, dims=data.SST.dims, coords=data.SST.coords )\n",
    "#     Sforc = xray.DataArray( Sforc, dims=data.SST.dims, coords=data.SST.coords )\n",
    "    savename = os.path.join(basedir, 'Tracer_forcing%04d_%02d' % (years[num]+46, month))\n",
    "    np.savez(savename, Tforc=Tforc, Sforc=Sforc)\n",
    "    \n",
    "    num += 1"
   ]
  },
  {
   "cell_type": "code",
   "execution_count": 34,
   "metadata": {
    "collapsed": false
   },
   "outputs": [],
   "source": [
    "ex = xray.open_dataset(os.path.join(basedir, \n",
    "                                    'Surface_Daily/hybrid_v5_rel04_BC5_ne120_t12_pop62.pop.h.nday1.0046-01-01.nc'),\n",
    "                      decode_times=False)\n",
    "sst = ex.SST.where(maskT)\n",
    "sss = ex.SSS.where(maskT)"
   ]
  },
  {
   "cell_type": "code",
   "execution_count": 35,
   "metadata": {
    "collapsed": false
   },
   "outputs": [],
   "source": [
    "N=64\n",
    "crit = 0.01\n",
    "j,i = (0,0)\n",
    "west, south = (lon_start, lat_start)\n",
    "east, north = (west+dlon, south+dlat)\n",
    "\n",
    "isospecs_month_Tforc = np.zeros((Degy+1, Degx+1, N))\n",
    "isospecs_month_Sforc = isospecs_month_Tforc.copy()\n",
    "\n",
    "Kis_month = np.zeros((Degy+1, Degx+1, N))\n",
    "Mrs_month = np.zeros((Degy+1, Degx+1, N))"
   ]
  },
  {
   "cell_type": "code",
   "execution_count": 39,
   "metadata": {
    "collapsed": false
   },
   "outputs": [
    {
     "name": "stdout",
     "output_type": "stream",
     "text": [
      "yearnum: 0 filename: /data/scratch/takaya/POP_data/Surface_Daily/hybrid_v5_rel04_BC5_ne120_t12_pop62.pop.h.nday1.0046-01-01.nc\n",
      "j: 0\n",
      "i: 0\n"
     ]
    }
   ],
   "source": [
    "for yearnum in years:\n",
    "    print 'yearnum:', yearnum, 'filename:', fname_mat[yearnum]\n",
    "\n",
    "#     ###############\n",
    "#     # convert units to MKS\n",
    "#     ###############\n",
    "#     p.nc['U_diss'] = xray.DataArray( 1e-6 * Udiss, dims=p.nc['U1_1'].dims, coords=p.nc['U1_1'].coords )\n",
    "#     p.nc['V_diss'] = xray.DataArray( 1e-6 * Vdiss, dims=p.nc['V1_1'].dims, coords=p.nc['V1_1'].coords )\n",
    "    p = pop_spectra.POPFile(fname_mat[yearnum], areaname='TAREA', maskname='KMT', hconst=Dz)\n",
    "    tracForcnpz = np.load(os.path.join(basedir, \n",
    "                                      'Tracer_forcing%04d_%02d.npz' % (yearnum+46, month)))\n",
    "    Tforc = tracForcnpz['Tforc']\n",
    "    Sforc = tracForcnpz['Sforc']\n",
    "    p.nc['Tforc'] = xray.DataArray(Tforc, dims=p.nc['SST'].dims, coords=p.nc['SST'].coords)\n",
    "    p.nc['Sforc'] = xray.DataArray(Sforc, dims=p.nc['SSS'].dims, coords=p.nc['SSS'].coords)\n",
    "    \n",
    "    j = 0\n",
    "    south = 30.\n",
    "    north = south + dlat\n",
    "    while south < 40.:\n",
    "        print 'j:', j\n",
    "        west = 155.\n",
    "        east = west+dlon\n",
    "        i = 0\n",
    "        while west < 165.:\n",
    "            print 'i:', i\n",
    "#                 print 'i:', i\n",
    "\n",
    "#                 print east, west, south, north\n",
    "\n",
    "            lonrange = np.array([west, east])\n",
    "            latrange = np.array([south, north])\n",
    "            lonmask = (tlon >= lonrange[0]) & (tlon < lonrange[1])\n",
    "            latmask = (tlat >= latrange[0]) & (tlat < latrange[1])\n",
    "            boxidx = lonmask & latmask # this won't necessarily be square\n",
    "            irange = np.where(boxidx.sum(axis=0))[0]\n",
    "            imin, imax = irange.min(), irange.max()\n",
    "            jrange = np.where(boxidx.sum(axis=1))[0]\n",
    "            jmin, jmax = jrange.min(), jrange.max()\n",
    "#                 print imin, imax, jmin, jmax\n",
    "\n",
    "            region_mask = mask_global[jmin:jmax, imin:imax]\n",
    "            Ny, Nx = region_mask.shape\n",
    "            land_fraction = region_mask.sum().astype('f8') / (Ny*Nx)\n",
    "                #SSH_domain = SSH[..., jmin:jmax, imin:imax]\n",
    "    \n",
    "\n",
    "            if land_fraction < crit:\n",
    "                        \n",
    "                ###########\n",
    "                # U dissipation\n",
    "                ###########\n",
    "                Neff, k, l, Ki, isospec, area = p.iso_wvnum_spectra(\n",
    "                                                'KMT', 'DXT', 'DYT', False, roll, N, crit,\n",
    "                                                imin, imax, jmin, jmax, \n",
    "                                                jmin_bound, jmax_bound, imin_bound, imax_bound,\n",
    "                                                daylag, daystart, \"SST\", \"Tforc\")\n",
    "                        \n",
    "                isospecs_month_Tforc[j, i, :] += isospec[1:]\n",
    "#                         print 'Temp forcing OK'\n",
    "\n",
    "                ###########\n",
    "                # V dissipation\n",
    "                ###########\n",
    "                Neff, k, l, Ki, isospec, area = p.iso_wvnum_spectra(\n",
    "                                                'KMT', 'DXT', 'DYT', False, roll, N, crit,\n",
    "                                                imin, imax, jmin, jmax, \n",
    "                                                jmin_bound, jmax_bound, imin_bound, imax_bound,\n",
    "                                                daylag, daystart, \"SSS\", \"Sforc\")\n",
    "\n",
    "                isospecs_month_Sforc[j, i, :] += isospec[1:]\n",
    "                if yearnum == 0:\n",
    "                    Kis_month[j, i, :] = Ki[1:]\n",
    "                    Mrs_month[j, i, :] = area\n",
    "#                         print 'Salinity forcing OK'\n",
    "               \n",
    "            else:\n",
    "                if yearnum == 0:\n",
    "                    isospecs_month_Tforc[j, i, :] = np.nan\n",
    "                    isospecs_month_Sforc[j, i, :] = np.nan\n",
    "\n",
    "                    Kis_month[j, i, :] = np.nan\n",
    "                    Mrs_month[j, i, :] = np.nan\n",
    "                        \n",
    "\n",
    "            west = east\n",
    "            east = west+dlon\n",
    "            i += 1\n",
    "    \n",
    "        south = north\n",
    "        north = south+dlat\n",
    "        j += 1    "
   ]
  },
  {
   "cell_type": "code",
   "execution_count": 40,
   "metadata": {
    "collapsed": false
   },
   "outputs": [
    {
     "data": {
      "text/plain": [
       "[<matplotlib.lines.Line2D at 0x7f7b38e27190>]"
      ]
     },
     "execution_count": 40,
     "metadata": {},
     "output_type": "execute_result"
    },
    {
     "data": {
      "image/png": "[encoded data removed]",
      "text/plain": [
       "<matplotlib.figure.Figure at 0x7f7d1c6708d0>"
      ]
     },
     "metadata": {},
     "output_type": "display_data"
    }
   ],
   "source": [
    "fig = plt.figure(figsize=(13,4))\n",
    "\n",
    "ax1 = fig.add_subplot(121)\n",
    "ax1.semilogx(Kis_month[0,0, 1:-1]*1e3, isospecs_month_Tforc[0, 0, 1:-1])\n",
    "\n",
    "ax2 = fig.add_subplot(122)\n",
    "ax2.semilogx(Kis_month[0,0, 1:-1]*1e3, isospecs_month_Sforc[0, 0, 1:-1])"
   ]
  },
  {
   "cell_type": "code",
   "execution_count": null,
   "metadata": {
    "collapsed": true
   },
   "outputs": [],
   "source": []
  }
 ],
 "metadata": {
  "kernelspec": {
   "display_name": "Python 2.7",
   "language": "python",
   "name": "python2"
  },
  "language_info": {
   "codemirror_mode": {
    "name": "ipython",
    "version": 2
   },
   "file_extension": ".py",
   "mimetype": "text/x-python",
   "name": "python",
   "nbconvert_exporter": "python",
   "pygments_lexer": "ipython2",
   "version": "2.7.11"
  }
 },
 "nbformat": 4,
 "nbformat_minor": 0
}
