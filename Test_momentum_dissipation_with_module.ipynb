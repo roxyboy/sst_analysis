{
 "cells": [
  {
   "cell_type": "code",
   "execution_count": 1,
   "metadata": {
    "collapsed": true
   },
   "outputs": [],
   "source": [
    "import os\n",
    "import numpy\n",
    "import numpy as np\n",
    "import xarray as xray\n",
    "import netCDF4\n",
    "from scipy import stats\n",
    "from scipy import io\n",
    "from netCDF4 import Dataset\n",
    "from scipy import interpolate as naiso\n",
    "\n",
    "from matplotlib import pyplot as plt\n",
    "%matplotlib inline"
   ]
  },
  {
   "cell_type": "code",
   "execution_count": 15,
   "metadata": {
    "collapsed": false
   },
   "outputs": [
    {
     "data": {
      "text/plain": [
       "<module 'sstanalysis.pop_spectra' from 'sstanalysis/pop_spectra.py'>"
      ]
     },
     "execution_count": 15,
     "metadata": {},
     "output_type": "execute_result"
    }
   ],
   "source": [
    "from sstanalysis import pop_spectra\n",
    "reload(pop_spectra)"
   ]
  },
  {
   "cell_type": "code",
   "execution_count": 3,
   "metadata": {
    "collapsed": true
   },
   "outputs": [],
   "source": [
    "basedir = '/data/scratch/takaya/POP_data/'"
   ]
  },
  {
   "cell_type": "code",
   "execution_count": 4,
   "metadata": {
    "collapsed": false
   },
   "outputs": [
    {
     "name": "stdout",
     "output_type": "stream",
     "text": [
      "34 11 420\n",
      "(13, 36)\n"
     ]
    }
   ],
   "source": [
    "dlat, dlon = (10., 10.)\n",
    "lat_start, lat_end = (-60., 50.)\n",
    "lon_start, lon_end = (5, 345.)\n",
    "west, south = (lon_start, lat_start)\n",
    "east, north = (west+dlon, south+dlat)\n",
    "Degx, Degy = (int((lon_end-lon_start)/dlon), int((lat_end-lat_start)/dlat))\n",
    "lon_global = numpy.arange(lon_start, lon_end+2*dlon, dlon)\n",
    "lat_global = numpy.arange(lat_start, lat_end+2*dlat, dlat)\n",
    "Lon_global, Lat_global = numpy.meshgrid(lon_global, lat_global)\n",
    "\n",
    "print Degx, Degy, (Degx+1)*(Degy+1)\n",
    "print Lon_global.shape"
   ]
  },
  {
   "cell_type": "code",
   "execution_count": 5,
   "metadata": {
    "collapsed": false
   },
   "outputs": [
    {
     "name": "stdout",
     "output_type": "stream",
     "text": [
      "['arr_1', 'arr_0']\n"
     ]
    }
   ],
   "source": [
    "roll = -1080\n",
    "\n",
    "fname = os.path.join(basedir, 'Surface_Daily/hybrid_v5_rel04_BC5_ne120_t12_pop62.pop.h.nday1.0046-02-01.nc')\n",
    "f = xray.open_dataset(fname, decode_times=False)\n",
    "mask = f.variables['KMT'].values <= 1\n",
    "tlon = numpy.roll(f.variables['TLONG'].where(~mask).values, roll, axis=1)\n",
    "tlat = numpy.roll(f.variables['TLAT'].where(~mask).values, roll, axis=1)\n",
    "Dz = f['dz'].values[0]  # centimeters\n",
    "\n",
    "\n",
    "lonrange=numpy.array([lon_start, lon_end])\n",
    "latrange=numpy.array([lat_start, lat_end+5.])\n",
    "lonmask = (tlon >= lonrange[0]) & (tlon < lonrange[1])\n",
    "latmask = (tlat >= latrange[0]) & (tlat < latrange[1])\n",
    "boxidx = lonmask & latmask # this won't necessarily be square\n",
    "irange = numpy.where(boxidx.sum(axis=0))[0]\n",
    "imin_bound, imax_bound = irange.min(), irange.max()\n",
    "jrange = numpy.where(boxidx.sum(axis=1))[0]\n",
    "jmin_bound, jmax_bound = jrange.min(), jrange.max()\n",
    "\n",
    "\n",
    "npzfile = numpy.load(os.path.join(basedir, 'interpLatnLon.npz'))\n",
    "print npzfile.files\n",
    "tlat = npzfile['arr_0']\n",
    "tlon = npzfile['arr_1']"
   ]
  },
  {
   "cell_type": "code",
   "execution_count": 72,
   "metadata": {
    "collapsed": false
   },
   "outputs": [
    {
     "name": "stdout",
     "output_type": "stream",
     "text": [
      "1000.0\n"
     ]
    }
   ],
   "source": [
    "print Dz"
   ]
  },
  {
   "cell_type": "code",
   "execution_count": 21,
   "metadata": {
    "collapsed": false
   },
   "outputs": [],
   "source": [
    "def calc_transformation_rates(pop_fname, dz, daylag=13, daystart=0, Nt=31):\n",
    "    \n",
    "    from sstanalysis import pop_spectra\n",
    "    reload(pop_spectra)\n",
    "    \n",
    "    p = pop_spectra.POPFile(pop_fname, areaname='UAREA', maskname='KMU', hconst=dz)\n",
    "    p.initialize_gradient_operator(field='momentum')\n",
    "    Ny, Nx = p.nc['ULONG'].shape\n",
    "    mask = p.nc.KMU > 1\n",
    "    U = p.nc.U1_1.where(mask).values\n",
    "    V = p.nc.V1_1.where(mask).values\n",
    "\n",
    "    # calculate density fluxes\n",
    "    Udiss, Vdiss = [dz * t for t in p.biharmonic_tendency('momentum', U, V)]\n",
    "    \n",
    "    return p, Udiss, Vdiss"
   ]
  },
  {
   "cell_type": "code",
   "execution_count": 7,
   "metadata": {
    "collapsed": false
   },
   "outputs": [
    {
     "name": "stdout",
     "output_type": "stream",
     "text": [
      "['/data/scratch/takaya/POP_data/Surface_Daily/hybrid_v5_rel04_BC5_ne120_t12_pop62.pop.h.nday1.0046-01-01.nc']\n"
     ]
    }
   ],
   "source": [
    "#########\n",
    "month = 1\n",
    "#########\n",
    "##########\n",
    "daystart = 1\n",
    "daylag = 13\n",
    "Ntmonth = 31\n",
    "##########\n",
    "# year = range(34)\n",
    "# years = numpy.append(year, range(35,41))\n",
    "years = range(1)\n",
    "fname_mat = ['' for x in range(len(years))]\n",
    "\n",
    "t = 0\n",
    "for yearnum in years:\n",
    "    fname = os.path.join(basedir,\n",
    "                                 'Surface_Daily/hybrid_v5_rel04_BC5_ne120_t12_pop62.pop.h.nday1.%04d-%02d-01.nc' \n",
    "                                 % (yearnum+46, month))\n",
    "    fname_mat[t] = fname\n",
    "    f = netCDF4.Dataset(fname)\n",
    "    t += 1\n",
    "#     print yearnum+46\n",
    "        \n",
    "    #for i in range(Nt):\n",
    "        #SSH_masked[i] = 1e-2*np.roll(np.ma.masked_array(f.variables['SSH_2'][i],mask), roll, axis=1)\n",
    "    \n",
    "    #SSH_full[Nt*yearnum:Nt*yearnum+Nt] = SSH_masked[:, jmin_bound:jmax_bound+100, imin_bound:imax_bound+100] \n",
    "    \n",
    "mask_global = numpy.roll(mask, roll, axis=1)[jmin_bound:jmax_bound+100, imin_bound:imax_bound+100]\n",
    "print fname_mat\n",
    "    \n",
    "Ny, Nx = tlon.shape"
   ]
  },
  {
   "cell_type": "code",
   "execution_count": 26,
   "metadata": {
    "collapsed": false,
    "scrolled": true
   },
   "outputs": [
    {
     "name": "stdout",
     "output_type": "stream",
     "text": [
      "46 428\n"
     ]
    },
    {
     "data": {
      "text/plain": [
       "<matplotlib.image.AxesImage at 0x7f3d88b4c810>"
      ]
     },
     "execution_count": 26,
     "metadata": {},
     "output_type": "execute_result"
    },
    {
     "data": {
      "image/png": "[encoded data removed]",
      "text/plain": [
       "<matplotlib.figure.Figure at 0x7f3d8d1b1790>"
      ]
     },
     "metadata": {},
     "output_type": "display_data"
    }
   ],
   "source": [
    "print imin_bound, jmin_bound\n",
    "plt.imshow(mask_global, origin='bottom')"
   ]
  },
  {
   "cell_type": "code",
   "execution_count": 22,
   "metadata": {
    "collapsed": false
   },
   "outputs": [],
   "source": [
    "crit = 0.01\n",
    "j,i = (0,0)\n",
    "west, south = (lon_start, lat_start)\n",
    "east, north = (west+dlon, south+dlat)\n",
    "\n",
    "N = 64\n",
    "\n",
    "isospecs_month_Udiss = numpy.zeros(N)\n",
    "isospecs_month_Vdiss = isospecs_month_Udiss.copy()\n",
    "isospecs_month_U = isospecs_month_Udiss.copy()\n",
    "isospecs_month_V = isospecs_month_Udiss.copy()\n",
    "\n",
    "Kis_month = numpy.zeros(N)\n",
    "Mrs_month = numpy.zeros(N)"
   ]
  },
  {
   "cell_type": "code",
   "execution_count": null,
   "metadata": {
    "collapsed": false,
    "scrolled": false
   },
   "outputs": [],
   "source": [
    "for yearnum in range(len(fname_mat)):\n",
    "    print 'yearnum:', yearnum\n",
    "\n",
    "#     ###############\n",
    "#     # convert units to MKS\n",
    "#     ###############\n",
    "#     p.nc['U_diss'] = xray.DataArray( 1e-6 * Udiss, dims=p.nc['U1_1'].dims, coords=p.nc['U1_1'].coords )\n",
    "#     p.nc['V_diss'] = xray.DataArray( 1e-6 * Vdiss, dims=p.nc['V1_1'].dims, coords=p.nc['V1_1'].coords )\n",
    "#     p = pop_spectra.POPFile(fname_mat[0], areaname='UAREA', maskname='KMU', hconst=Dz)\n",
    "#     momDissnpz = np.load(os.path.join(basedir, \n",
    "#                                       'Momentum_Biharmonic_closure%04d_%02d.npz' % (yearnum+46, month)))\n",
    "#     hduk = momDissnpz['hduk']\n",
    "#     hdvk = momDissnpz['hdvk']\n",
    "    \n",
    "    p, Udiss, Vdiss = calc_transformation_rates(fname_mat[yearnum], Dz, Nt=Ntmonth)\n",
    "    \n",
    "    p.nc['Udiss'] = xray.DataArray(1e-2*Dz * hduk, dims=p.nc['U1_1'].dims, coords=p.nc['U1_1'].coords)\n",
    "    p.nc['Vdiss'] = xray.DataArray(1e-2*Dz * hdvk, dims=p.nc['V1_1'].dims, coords=p.nc['V1_1'].coords)\n",
    "    \n",
    "    j = 0\n",
    "    south = 30.\n",
    "    north = south + dlat\n",
    "    while south < 40.:\n",
    "        print 'j:', j\n",
    "        west = 155.\n",
    "        east = west+dlon\n",
    "        i = 0\n",
    "        if south < 40.:\n",
    "            while west < 165.:\n",
    "                print 'i:', i\n",
    "\n",
    "    #             print east, west, south, north\n",
    "\n",
    "                lonrange = numpy.array([west, east])\n",
    "                latrange = numpy.array([south, north])\n",
    "                lonmask = (tlon >= lonrange[0]) & (tlon < lonrange[1])\n",
    "                latmask = (tlat >= latrange[0]) & (tlat < latrange[1])\n",
    "                boxidx = lonmask & latmask # this won't necessarily be square\n",
    "                irange = numpy.where(boxidx.sum(axis=0))[0]\n",
    "                imin, imax = irange.min(), irange.max()\n",
    "                jrange = numpy.where(boxidx.sum(axis=1))[0]\n",
    "                jmin, jmax = jrange.min(), jrange.max()\n",
    "                print imin, imax, jmin, jmax\n",
    "\n",
    "                region_mask = mask_global[jmin:jmax, imin:imax]\n",
    "                Ny, Nx = region_mask.shape\n",
    "                land_fraction = region_mask.sum().astype('f8') / (Ny*Nx)\n",
    "                #SSH_domain = SSH[..., jmin:jmax, imin:imax]\n",
    "    \n",
    "            \n",
    "                if west < lon_end:\n",
    "                    if land_fraction < crit:\n",
    "                        print crit\n",
    "                        \n",
    "                        ###########\n",
    "                        # zonal KE\n",
    "                        ###########\n",
    "                        Neff, k, l, Ki, isospec, area = p.iso_wvnum_spectra(\n",
    "                                                'KMU', 'DXU', 'DYU', False, roll, N, crit,\n",
    "                                                imin, imax, jmin, jmax, \n",
    "                                                jmin_bound, jmax_bound, imin_bound, imax_bound,\n",
    "                                                daylag, daystart, \"U1_1\")\n",
    "                        \n",
    "                        isospecs_month_U[:] += isospec[1:]\n",
    "                        \n",
    "                        ###########\n",
    "                        # meridional KE\n",
    "                        ###########\n",
    "                        Neff, k, l, Ki, isospec, area = p.iso_wvnum_spectra(\n",
    "                                                'KMU', 'DXU', 'DYU', False, roll, N, crit,\n",
    "                                                imin, imax, jmin, jmax, \n",
    "                                                jmin_bound, jmax_bound, imin_bound, imax_bound,\n",
    "                                                daylag, daystart, \"V1_1\")\n",
    "                        \n",
    "                        isospecs_month_V[:] += isospec[1:]\n",
    "                        \n",
    "                        ###########\n",
    "                        # U dissipation\n",
    "                        ###########\n",
    "                        Neff, k, l, Ki, isospec, area = p.iso_wvnum_spectra(\n",
    "                                                'KMU', 'DXU', 'DYU', False, roll, N, crit,\n",
    "                                                imin, imax, jmin, jmax, \n",
    "                                                jmin_bound, jmax_bound, imin_bound, imax_bound,\n",
    "                                                daylag, daystart, \"U1_1\", \"Udiss\")\n",
    "                        \n",
    "                        isospecs_month_Udiss[:] += isospec[1:]\n",
    "#                         print 'Temp forcing OK'\n",
    "\n",
    "                        ###########\n",
    "                        # V dissipation\n",
    "                        ###########\n",
    "                        Neff, k, l, Ki, isospec, area = p.iso_wvnum_spectra(\n",
    "                                                'KMU', 'DXU', 'DYU', False, roll, N, crit,\n",
    "                                                imin, imax, jmin, jmax, \n",
    "                                                jmin_bound, jmax_bound, imin_bound, imax_bound,\n",
    "                                                daylag, daystart, \"V1_1\", \"Vdiss\")\n",
    "\n",
    "                        isospecs_month_Vdiss[:] += isospec[1:]\n",
    "                        Kis_month[:] = Ki[1:]\n",
    "                        Mrs_month[:] = area\n",
    "#                         print 'Salinity forcing OK'\n",
    "               \n",
    "                    else:\n",
    "                        if yearnum == 0:\n",
    "                            isospecs_month_U[:] = numpy.nan\n",
    "                            isospecs_month_V[:] = numpy.nan\n",
    "                            isospecs_month_Udiss[:] = numpy.nan\n",
    "                            isospecs_month_Vdiss[:] = numpy.nan\n",
    "\n",
    "                            Kis_month[:] = numpy.nan\n",
    "                            Mrs_month[:] = numpy.nan\n",
    "                        else:\n",
    "                            pass\n",
    "                        print \"land fraction is too high\"\n",
    "                        break\n",
    "                        \n",
    "\n",
    "                west = east\n",
    "                east = west+dlon\n",
    "                i += 1\n",
    "    \n",
    "        south = north\n",
    "        north = south+dlat\n",
    "        j += 1    "
   ]
  },
  {
   "cell_type": "code",
   "execution_count": null,
   "metadata": {
    "collapsed": false
   },
   "outputs": [],
   "source": [
    "fig = plt.figure(figsize=(7,5))\n",
    "ax = plt.gca()\n",
    "ax.semilogx(Kis_month[:-1]*1e3, isospecs_month_Udiss[:-1]/3., \n",
    "            'b', label=r'$u_K$ $\\nu (\\nabla^4 u)_K$')\n",
    "ax.semilogx(Kis_month[:-1]*1e3, isospecs_month_Vdiss[:-1]/3., \n",
    "            'r', label=r'$v_k$ $\\nu (\\nabla^4 v)_K$')\n",
    "ax.semilogx(Kis_month[:-1]*1e3, \n",
    "            2.7e10*(Kis_month[:-1]*1e3)**4 * isospecs_month_U[:-1]/3.*1e-8, \n",
    "            'b-.', label=r'$\\nu K^4 |u_K|^2$x$10^8$')\n",
    "ax.semilogx(Kis_month[:-1]*1e3, \n",
    "            2.7e10*(Kis_month[:-1]*1e3)**4 * isospecs_month_V[:-1]/3.*1e-8, \n",
    "            'r-.', label=r'$\\nu K^4 |v_K|^2$x$10^8$')\n",
    "ax.semilogx(Kis_month[:-1]*1e3, numpy.zeros(len(Kis_month[:-1])), 'k--')\n",
    "# ax.set_ylabel(r'[m$^2$/s$^3$]', fontsize=14)\n",
    "ax.set_xlabel(r'[cpkm]', fontsize=14)\n",
    "plt.xticks(fontsize=13)\n",
    "plt.yticks(fontsize=13)\n",
    "plt.legend(loc='upper left', fontsize=15)"
   ]
  },
  {
   "cell_type": "code",
   "execution_count": 39,
   "metadata": {
    "collapsed": false
   },
   "outputs": [
    {
     "name": "stdout",
     "output_type": "stream",
     "text": [
      "['Mar1_v', 'Mar1_u']\n"
     ]
    }
   ],
   "source": [
    "Marnpz = numpy.load(os.path.join(basedir, 'momentum_dissipation_year46March.npz'))\n",
    "print Marnpz.files\n",
    "Udiss_Mar = Marnpz['Mar1_u']\n",
    "Vdiss_Mar = Marnpz['Mar1_v']"
   ]
  },
  {
   "cell_type": "markdown",
   "metadata": {
    "collapsed": false
   },
   "source": [
    "# $ u'_K \\ (\\nu \\nabla^4 u')_K^* $\n",
    "\n",
    "where the subscript $K$ represents the term in the Fourier transform"
   ]
  },
  {
   "cell_type": "code",
   "execution_count": null,
   "metadata": {
    "collapsed": false
   },
   "outputs": [],
   "source": [
    "# mytup = (5, 6)\n",
    "# [5 * t for t in mytup]"
   ]
  },
  {
   "cell_type": "code",
   "execution_count": 17,
   "metadata": {
    "collapsed": false
   },
   "outputs": [],
   "source": [
    "def laplacian(field, *args):\n",
    "    \"\"\"Returns the laplacian\n",
    "    \"\"\"\n",
    "    if field == 'tracer':\n",
    "        assert len(args)==1\n",
    "        return args\n",
    "    elif field == 'momentum':\n",
    "        assert len(args)==2\n",
    "        return args"
   ]
  },
  {
   "cell_type": "code",
   "execution_count": 18,
   "metadata": {
    "collapsed": false
   },
   "outputs": [
    {
     "name": "stdout",
     "output_type": "stream",
     "text": [
      "(10.0,)\n"
     ]
    }
   ],
   "source": [
    "T= 10.\n",
    "re = laplacian('tracer', T)\n",
    "print re"
   ]
  },
  {
   "cell_type": "code",
   "execution_count": null,
   "metadata": {
    "collapsed": true
   },
   "outputs": [],
   "source": []
  }
 ],
 "metadata": {
  "kernelspec": {
   "display_name": "Python 2.7",
   "language": "python",
   "name": "python2"
  },
  "language_info": {
   "codemirror_mode": {
    "name": "ipython",
    "version": 2
   },
   "file_extension": ".py",
   "mimetype": "text/x-python",
   "name": "python",
   "nbconvert_exporter": "python",
   "pygments_lexer": "ipython2",
   "version": "2.7.11"
  }
 },
 "nbformat": 4,
 "nbformat_minor": 0
}
